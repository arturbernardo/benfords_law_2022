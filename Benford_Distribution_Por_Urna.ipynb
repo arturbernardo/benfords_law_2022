{
  "nbformat": 4,
  "nbformat_minor": 0,
  "metadata": {
    "colab": {
      "provenance": [],
      "authorship_tag": "ABX9TyO7o2sH8oukT4a5tmrOQ4A0",
      "include_colab_link": true
    },
    "kernelspec": {
      "name": "python3",
      "display_name": "Python 3"
    },
    "language_info": {
      "name": "python"
    }
  },
  "cells": [
    {
      "cell_type": "markdown",
      "metadata": {
        "id": "view-in-github",
        "colab_type": "text"
      },
      "source": [
        "<a href=\"https://colab.research.google.com/github/arturbernardo/benfords_law_2022/blob/main/Benford_Distribution_Por_Urna.ipynb\" target=\"_parent\"><img src=\"https://colab.research.google.com/assets/colab-badge.svg\" alt=\"Open In Colab\"/></a>"
      ]
    },
    {
      "cell_type": "markdown",
      "source": [
        "# Analise dos votos das eleições de 2022 na perspectiva da lei de Benford."
      ],
      "metadata": {
        "id": "1u-hOYs70jTL"
      }
    },
    {
      "cell_type": "markdown",
      "source": [
        "https://en.wikipedia.org/wiki/Benford%27s_law\n",
        "\n",
        "---\n",
        "\n"
      ],
      "metadata": {
        "id": "LFLVU1un1UsM"
      }
    },
    {
      "cell_type": "markdown",
      "source": [
        "**Importate**:\n",
        "A lei de Benford não serve para comprovar irregularidades em eleições, mas ela serve como uma interessante ferramenta para que se procure por anomalias.\n",
        "Sua teoria é complexa, o simples fato de um conjunto de números desviar na distribuição esperada não significa fraude. Usá-la para apontar fraudes sem entender a teoria corretamente é irresponsável.\n",
        "Essa análise faz parte de uma série de análises feitas por mim, em nenhuma delas eu encontrei nada suspeito no processo eleitoral presidencial de 2022.\n",
        "Essa análise é por urna, o que não mostra nada revelador, pois a quantidade de eleitores aptos por urna varia de 50 a 500, tendendo a algo entre os dois números, com o número de eleitores presentes mais comum sendo algo entre 200 e 300. Isso faz uma distribuição não orgânica, levando a maioria total das urnas conter 1XX votos por cantidato. A análise encontrada aqui, em última instância, serve para mostrar que muitos conjuntos de dados não se encaixam na lei de Benford."
      ],
      "metadata": {
        "id": "0DFNeNbN2VJi"
      }
    },
    {
      "cell_type": "code",
      "source": [
        "import pandas as pd\n",
        "import plotly.express as px\n",
        "from google.colab import drive\n",
        "from pathlib import Path\n",
        "import os\n",
        "import numpy as np\n",
        "import matplotlib.pyplot as plt\n",
        "import math\n"
      ],
      "metadata": {
        "id": "p53gijYDa8pa"
      },
      "execution_count": null,
      "outputs": []
    },
    {
      "cell_type": "code",
      "source": [
        "pd.options.display.max_columns = None\n"
      ],
      "metadata": {
        "id": "jZJScOOxa900"
      },
      "execution_count": null,
      "outputs": []
    },
    {
      "cell_type": "code",
      "source": [
        "drive.mount('/content/drive')\n"
      ],
      "metadata": {
        "colab": {
          "base_uri": "https://localhost:8080/"
        },
        "id": "WTIuYSMXa_Em",
        "outputId": "e66e4c5d-915c-4457-ad1e-60e06ae77f16"
      },
      "execution_count": null,
      "outputs": [
        {
          "output_type": "stream",
          "name": "stdout",
          "text": [
            "Mounted at /content/drive\n"
          ]
        }
      ]
    },
    {
      "cell_type": "code",
      "execution_count": null,
      "metadata": {
        "id": "09-Wa7mlabEn"
      },
      "outputs": [],
      "source": [
        "all = pd.DataFrame()\n",
        "\n",
        "# states = ['AC', 'AL', 'AM', 'AP', 'DF', 'ES', 'MA', 'MS', 'MG', 'MT', 'PA', 'PB', 'PE', 'PI', 'PR', 'RJ', 'RN', 'RO', 'RR', 'SC', 'SE', 'ZZ', 'TO', 'SP', 'RS', 'CE', 'GO', 'BA']\n",
        "states = ['MS']\n",
        "\n",
        "for state in states:\n",
        "  st = pd.read_csv('/content/drive/MyDrive/data/eleicoes2022unziped/bweb_2t_'+state+'_311020221535.csv', encoding=\"ISO-8859-1\", sep = ';',\n",
        "                   dtype={\n",
        "                            \"SG_UF\": pd.CategoricalDtype(),\n",
        "                            \"CD_MUNICIPIO\": pd.Int64Dtype(),\n",
        "                            \"NR_LOCAL_VOTACAO\": pd.Int64Dtype(),\n",
        "                            \"NR_ZONA\": pd.Int64Dtype(),\n",
        "                            \"NR_SECAO\": pd.CategoricalDtype(),\n",
        "                            \"QT_VOTOS\": pd.StringDtype()\n",
        "                        })\n",
        "\n",
        "  st_presidente = st[st.CD_CARGO_PERGUNTA == 1]\n",
        "  filtered_df = st_presidente.loc[(st_presidente['NR_PARTIDO'] == 13) | (st_presidente['NR_PARTIDO'] == 22)]\n",
        "\n",
        "  toUnion = [all, filtered_df]\n",
        "\n",
        "  all = pd.concat(toUnion)\n",
        "\n",
        "all\n"
      ]
    },
    {
      "cell_type": "code",
      "source": [
        "df2 = all[['NR_LOCAL_VOTACAO',\n",
        "                   'CD_MUNICIPIO',\n",
        "                   'NR_ZONA',\n",
        "                   'NR_SECAO',\n",
        "                   'QT_VOTOS',\n",
        "                   'QT_APTOS',\n",
        "                   'QT_COMPARECIMENTO',\n",
        "                   'CD_CARGO_PERGUNTA',\n",
        "                   'NR_PARTIDO',\n",
        "                   'NM_MUNICIPIO',\n",
        "                   'SG_UF']]"
      ],
      "metadata": {
        "id": "UBYL43ONbWY4"
      },
      "execution_count": null,
      "outputs": []
    },
    {
      "cell_type": "code",
      "source": [
        "df_lula = df2.loc[(df2['NR_PARTIDO'] == 13)]\n",
        "\n",
        "df_bolsonaro = df2.loc[(df2['NR_PARTIDO'] == 22)]"
      ],
      "metadata": {
        "id": "fbKqb8ItbdOg"
      },
      "execution_count": null,
      "outputs": []
    },
    {
      "cell_type": "code",
      "source": [
        "df_lula"
      ],
      "metadata": {
        "colab": {
          "base_uri": "https://localhost:8080/",
          "height": 424
        },
        "id": "8WbcN5zHdDBK",
        "outputId": "5c5e101d-2a47-4cd2-d451-5e7a123e743d"
      },
      "execution_count": null,
      "outputs": [
        {
          "output_type": "execute_result",
          "data": {
            "text/plain": [
              "       NR_LOCAL_VOTACAO  CD_MUNICIPIO  NR_ZONA NR_SECAO QT_VOTOS  QT_APTOS  \\\n",
              "3                  1015         90115        1        1       87       295   \n",
              "9                  1015         90115        1        2       95       299   \n",
              "18                 1015         90115        1        3       75       306   \n",
              "26                 1015         90115        1        4       78       289   \n",
              "33                 1015         90115        1        5       96       301   \n",
              "...                 ...           ...      ...      ...      ...       ...   \n",
              "54275              1171         90514       54      317       75       338   \n",
              "54286              1082         91596       54      319      144       339   \n",
              "54293              1082         91596       54      320       92       326   \n",
              "54300              1040         91596       54      321       98       303   \n",
              "54306              1171         90514       54      322       29        89   \n",
              "\n",
              "       QT_COMPARECIMENTO  CD_CARGO_PERGUNTA  NR_PARTIDO  NM_MUNICIPIO SG_UF  \n",
              "3                    211                  1          13       AMAMBAI    MS  \n",
              "9                    222                  1          13       AMAMBAI    MS  \n",
              "18                   218                  1          13       AMAMBAI    MS  \n",
              "26                   219                  1          13       AMAMBAI    MS  \n",
              "33                   222                  1          13       AMAMBAI    MS  \n",
              "...                  ...                ...         ...           ...   ...  \n",
              "54275                227                  1          13  CAMPO GRANDE    MS  \n",
              "54286                304                  1          13       TERENOS    MS  \n",
              "54293                259                  1          13       TERENOS    MS  \n",
              "54300                262                  1          13       TERENOS    MS  \n",
              "54306                 66                  1          13  CAMPO GRANDE    MS  \n",
              "\n",
              "[6912 rows x 11 columns]"
            ],
            "text/html": [
              "\n",
              "  <div id=\"df-70340b67-137b-440a-acec-1f0cc2a68c4c\" class=\"colab-df-container\">\n",
              "    <div>\n",
              "<style scoped>\n",
              "    .dataframe tbody tr th:only-of-type {\n",
              "        vertical-align: middle;\n",
              "    }\n",
              "\n",
              "    .dataframe tbody tr th {\n",
              "        vertical-align: top;\n",
              "    }\n",
              "\n",
              "    .dataframe thead th {\n",
              "        text-align: right;\n",
              "    }\n",
              "</style>\n",
              "<table border=\"1\" class=\"dataframe\">\n",
              "  <thead>\n",
              "    <tr style=\"text-align: right;\">\n",
              "      <th></th>\n",
              "      <th>NR_LOCAL_VOTACAO</th>\n",
              "      <th>CD_MUNICIPIO</th>\n",
              "      <th>NR_ZONA</th>\n",
              "      <th>NR_SECAO</th>\n",
              "      <th>QT_VOTOS</th>\n",
              "      <th>QT_APTOS</th>\n",
              "      <th>QT_COMPARECIMENTO</th>\n",
              "      <th>CD_CARGO_PERGUNTA</th>\n",
              "      <th>NR_PARTIDO</th>\n",
              "      <th>NM_MUNICIPIO</th>\n",
              "      <th>SG_UF</th>\n",
              "    </tr>\n",
              "  </thead>\n",
              "  <tbody>\n",
              "    <tr>\n",
              "      <th>3</th>\n",
              "      <td>1015</td>\n",
              "      <td>90115</td>\n",
              "      <td>1</td>\n",
              "      <td>1</td>\n",
              "      <td>87</td>\n",
              "      <td>295</td>\n",
              "      <td>211</td>\n",
              "      <td>1</td>\n",
              "      <td>13</td>\n",
              "      <td>AMAMBAI</td>\n",
              "      <td>MS</td>\n",
              "    </tr>\n",
              "    <tr>\n",
              "      <th>9</th>\n",
              "      <td>1015</td>\n",
              "      <td>90115</td>\n",
              "      <td>1</td>\n",
              "      <td>2</td>\n",
              "      <td>95</td>\n",
              "      <td>299</td>\n",
              "      <td>222</td>\n",
              "      <td>1</td>\n",
              "      <td>13</td>\n",
              "      <td>AMAMBAI</td>\n",
              "      <td>MS</td>\n",
              "    </tr>\n",
              "    <tr>\n",
              "      <th>18</th>\n",
              "      <td>1015</td>\n",
              "      <td>90115</td>\n",
              "      <td>1</td>\n",
              "      <td>3</td>\n",
              "      <td>75</td>\n",
              "      <td>306</td>\n",
              "      <td>218</td>\n",
              "      <td>1</td>\n",
              "      <td>13</td>\n",
              "      <td>AMAMBAI</td>\n",
              "      <td>MS</td>\n",
              "    </tr>\n",
              "    <tr>\n",
              "      <th>26</th>\n",
              "      <td>1015</td>\n",
              "      <td>90115</td>\n",
              "      <td>1</td>\n",
              "      <td>4</td>\n",
              "      <td>78</td>\n",
              "      <td>289</td>\n",
              "      <td>219</td>\n",
              "      <td>1</td>\n",
              "      <td>13</td>\n",
              "      <td>AMAMBAI</td>\n",
              "      <td>MS</td>\n",
              "    </tr>\n",
              "    <tr>\n",
              "      <th>33</th>\n",
              "      <td>1015</td>\n",
              "      <td>90115</td>\n",
              "      <td>1</td>\n",
              "      <td>5</td>\n",
              "      <td>96</td>\n",
              "      <td>301</td>\n",
              "      <td>222</td>\n",
              "      <td>1</td>\n",
              "      <td>13</td>\n",
              "      <td>AMAMBAI</td>\n",
              "      <td>MS</td>\n",
              "    </tr>\n",
              "    <tr>\n",
              "      <th>...</th>\n",
              "      <td>...</td>\n",
              "      <td>...</td>\n",
              "      <td>...</td>\n",
              "      <td>...</td>\n",
              "      <td>...</td>\n",
              "      <td>...</td>\n",
              "      <td>...</td>\n",
              "      <td>...</td>\n",
              "      <td>...</td>\n",
              "      <td>...</td>\n",
              "      <td>...</td>\n",
              "    </tr>\n",
              "    <tr>\n",
              "      <th>54275</th>\n",
              "      <td>1171</td>\n",
              "      <td>90514</td>\n",
              "      <td>54</td>\n",
              "      <td>317</td>\n",
              "      <td>75</td>\n",
              "      <td>338</td>\n",
              "      <td>227</td>\n",
              "      <td>1</td>\n",
              "      <td>13</td>\n",
              "      <td>CAMPO GRANDE</td>\n",
              "      <td>MS</td>\n",
              "    </tr>\n",
              "    <tr>\n",
              "      <th>54286</th>\n",
              "      <td>1082</td>\n",
              "      <td>91596</td>\n",
              "      <td>54</td>\n",
              "      <td>319</td>\n",
              "      <td>144</td>\n",
              "      <td>339</td>\n",
              "      <td>304</td>\n",
              "      <td>1</td>\n",
              "      <td>13</td>\n",
              "      <td>TERENOS</td>\n",
              "      <td>MS</td>\n",
              "    </tr>\n",
              "    <tr>\n",
              "      <th>54293</th>\n",
              "      <td>1082</td>\n",
              "      <td>91596</td>\n",
              "      <td>54</td>\n",
              "      <td>320</td>\n",
              "      <td>92</td>\n",
              "      <td>326</td>\n",
              "      <td>259</td>\n",
              "      <td>1</td>\n",
              "      <td>13</td>\n",
              "      <td>TERENOS</td>\n",
              "      <td>MS</td>\n",
              "    </tr>\n",
              "    <tr>\n",
              "      <th>54300</th>\n",
              "      <td>1040</td>\n",
              "      <td>91596</td>\n",
              "      <td>54</td>\n",
              "      <td>321</td>\n",
              "      <td>98</td>\n",
              "      <td>303</td>\n",
              "      <td>262</td>\n",
              "      <td>1</td>\n",
              "      <td>13</td>\n",
              "      <td>TERENOS</td>\n",
              "      <td>MS</td>\n",
              "    </tr>\n",
              "    <tr>\n",
              "      <th>54306</th>\n",
              "      <td>1171</td>\n",
              "      <td>90514</td>\n",
              "      <td>54</td>\n",
              "      <td>322</td>\n",
              "      <td>29</td>\n",
              "      <td>89</td>\n",
              "      <td>66</td>\n",
              "      <td>1</td>\n",
              "      <td>13</td>\n",
              "      <td>CAMPO GRANDE</td>\n",
              "      <td>MS</td>\n",
              "    </tr>\n",
              "  </tbody>\n",
              "</table>\n",
              "<p>6912 rows × 11 columns</p>\n",
              "</div>\n",
              "    <div class=\"colab-df-buttons\">\n",
              "\n",
              "  <div class=\"colab-df-container\">\n",
              "    <button class=\"colab-df-convert\" onclick=\"convertToInteractive('df-70340b67-137b-440a-acec-1f0cc2a68c4c')\"\n",
              "            title=\"Convert this dataframe to an interactive table.\"\n",
              "            style=\"display:none;\">\n",
              "\n",
              "  <svg xmlns=\"http://www.w3.org/2000/svg\" height=\"24px\" viewBox=\"0 -960 960 960\">\n",
              "    <path d=\"M120-120v-720h720v720H120Zm60-500h600v-160H180v160Zm220 220h160v-160H400v160Zm0 220h160v-160H400v160ZM180-400h160v-160H180v160Zm440 0h160v-160H620v160ZM180-180h160v-160H180v160Zm440 0h160v-160H620v160Z\"/>\n",
              "  </svg>\n",
              "    </button>\n",
              "\n",
              "  <style>\n",
              "    .colab-df-container {\n",
              "      display:flex;\n",
              "      gap: 12px;\n",
              "    }\n",
              "\n",
              "    .colab-df-convert {\n",
              "      background-color: #E8F0FE;\n",
              "      border: none;\n",
              "      border-radius: 50%;\n",
              "      cursor: pointer;\n",
              "      display: none;\n",
              "      fill: #1967D2;\n",
              "      height: 32px;\n",
              "      padding: 0 0 0 0;\n",
              "      width: 32px;\n",
              "    }\n",
              "\n",
              "    .colab-df-convert:hover {\n",
              "      background-color: #E2EBFA;\n",
              "      box-shadow: 0px 1px 2px rgba(60, 64, 67, 0.3), 0px 1px 3px 1px rgba(60, 64, 67, 0.15);\n",
              "      fill: #174EA6;\n",
              "    }\n",
              "\n",
              "    .colab-df-buttons div {\n",
              "      margin-bottom: 4px;\n",
              "    }\n",
              "\n",
              "    [theme=dark] .colab-df-convert {\n",
              "      background-color: #3B4455;\n",
              "      fill: #D2E3FC;\n",
              "    }\n",
              "\n",
              "    [theme=dark] .colab-df-convert:hover {\n",
              "      background-color: #434B5C;\n",
              "      box-shadow: 0px 1px 3px 1px rgba(0, 0, 0, 0.15);\n",
              "      filter: drop-shadow(0px 1px 2px rgba(0, 0, 0, 0.3));\n",
              "      fill: #FFFFFF;\n",
              "    }\n",
              "  </style>\n",
              "\n",
              "    <script>\n",
              "      const buttonEl =\n",
              "        document.querySelector('#df-70340b67-137b-440a-acec-1f0cc2a68c4c button.colab-df-convert');\n",
              "      buttonEl.style.display =\n",
              "        google.colab.kernel.accessAllowed ? 'block' : 'none';\n",
              "\n",
              "      async function convertToInteractive(key) {\n",
              "        const element = document.querySelector('#df-70340b67-137b-440a-acec-1f0cc2a68c4c');\n",
              "        const dataTable =\n",
              "          await google.colab.kernel.invokeFunction('convertToInteractive',\n",
              "                                                    [key], {});\n",
              "        if (!dataTable) return;\n",
              "\n",
              "        const docLinkHtml = 'Like what you see? Visit the ' +\n",
              "          '<a target=\"_blank\" href=https://colab.research.google.com/notebooks/data_table.ipynb>data table notebook</a>'\n",
              "          + ' to learn more about interactive tables.';\n",
              "        element.innerHTML = '';\n",
              "        dataTable['output_type'] = 'display_data';\n",
              "        await google.colab.output.renderOutput(dataTable, element);\n",
              "        const docLink = document.createElement('div');\n",
              "        docLink.innerHTML = docLinkHtml;\n",
              "        element.appendChild(docLink);\n",
              "      }\n",
              "    </script>\n",
              "  </div>\n",
              "\n",
              "\n",
              "<div id=\"df-9ad0c3da-2a3a-48fd-8f29-9e8b7fda1e9a\">\n",
              "  <button class=\"colab-df-quickchart\" onclick=\"quickchart('df-9ad0c3da-2a3a-48fd-8f29-9e8b7fda1e9a')\"\n",
              "            title=\"Suggest charts.\"\n",
              "            style=\"display:none;\">\n",
              "\n",
              "<svg xmlns=\"http://www.w3.org/2000/svg\" height=\"24px\"viewBox=\"0 0 24 24\"\n",
              "     width=\"24px\">\n",
              "    <g>\n",
              "        <path d=\"M19 3H5c-1.1 0-2 .9-2 2v14c0 1.1.9 2 2 2h14c1.1 0 2-.9 2-2V5c0-1.1-.9-2-2-2zM9 17H7v-7h2v7zm4 0h-2V7h2v10zm4 0h-2v-4h2v4z\"/>\n",
              "    </g>\n",
              "</svg>\n",
              "  </button>\n",
              "\n",
              "<style>\n",
              "  .colab-df-quickchart {\n",
              "      --bg-color: #E8F0FE;\n",
              "      --fill-color: #1967D2;\n",
              "      --hover-bg-color: #E2EBFA;\n",
              "      --hover-fill-color: #174EA6;\n",
              "      --disabled-fill-color: #AAA;\n",
              "      --disabled-bg-color: #DDD;\n",
              "  }\n",
              "\n",
              "  [theme=dark] .colab-df-quickchart {\n",
              "      --bg-color: #3B4455;\n",
              "      --fill-color: #D2E3FC;\n",
              "      --hover-bg-color: #434B5C;\n",
              "      --hover-fill-color: #FFFFFF;\n",
              "      --disabled-bg-color: #3B4455;\n",
              "      --disabled-fill-color: #666;\n",
              "  }\n",
              "\n",
              "  .colab-df-quickchart {\n",
              "    background-color: var(--bg-color);\n",
              "    border: none;\n",
              "    border-radius: 50%;\n",
              "    cursor: pointer;\n",
              "    display: none;\n",
              "    fill: var(--fill-color);\n",
              "    height: 32px;\n",
              "    padding: 0;\n",
              "    width: 32px;\n",
              "  }\n",
              "\n",
              "  .colab-df-quickchart:hover {\n",
              "    background-color: var(--hover-bg-color);\n",
              "    box-shadow: 0 1px 2px rgba(60, 64, 67, 0.3), 0 1px 3px 1px rgba(60, 64, 67, 0.15);\n",
              "    fill: var(--button-hover-fill-color);\n",
              "  }\n",
              "\n",
              "  .colab-df-quickchart-complete:disabled,\n",
              "  .colab-df-quickchart-complete:disabled:hover {\n",
              "    background-color: var(--disabled-bg-color);\n",
              "    fill: var(--disabled-fill-color);\n",
              "    box-shadow: none;\n",
              "  }\n",
              "\n",
              "  .colab-df-spinner {\n",
              "    border: 2px solid var(--fill-color);\n",
              "    border-color: transparent;\n",
              "    border-bottom-color: var(--fill-color);\n",
              "    animation:\n",
              "      spin 1s steps(1) infinite;\n",
              "  }\n",
              "\n",
              "  @keyframes spin {\n",
              "    0% {\n",
              "      border-color: transparent;\n",
              "      border-bottom-color: var(--fill-color);\n",
              "      border-left-color: var(--fill-color);\n",
              "    }\n",
              "    20% {\n",
              "      border-color: transparent;\n",
              "      border-left-color: var(--fill-color);\n",
              "      border-top-color: var(--fill-color);\n",
              "    }\n",
              "    30% {\n",
              "      border-color: transparent;\n",
              "      border-left-color: var(--fill-color);\n",
              "      border-top-color: var(--fill-color);\n",
              "      border-right-color: var(--fill-color);\n",
              "    }\n",
              "    40% {\n",
              "      border-color: transparent;\n",
              "      border-right-color: var(--fill-color);\n",
              "      border-top-color: var(--fill-color);\n",
              "    }\n",
              "    60% {\n",
              "      border-color: transparent;\n",
              "      border-right-color: var(--fill-color);\n",
              "    }\n",
              "    80% {\n",
              "      border-color: transparent;\n",
              "      border-right-color: var(--fill-color);\n",
              "      border-bottom-color: var(--fill-color);\n",
              "    }\n",
              "    90% {\n",
              "      border-color: transparent;\n",
              "      border-bottom-color: var(--fill-color);\n",
              "    }\n",
              "  }\n",
              "</style>\n",
              "\n",
              "  <script>\n",
              "    async function quickchart(key) {\n",
              "      const quickchartButtonEl =\n",
              "        document.querySelector('#' + key + ' button');\n",
              "      quickchartButtonEl.disabled = true;  // To prevent multiple clicks.\n",
              "      quickchartButtonEl.classList.add('colab-df-spinner');\n",
              "      try {\n",
              "        const charts = await google.colab.kernel.invokeFunction(\n",
              "            'suggestCharts', [key], {});\n",
              "      } catch (error) {\n",
              "        console.error('Error during call to suggestCharts:', error);\n",
              "      }\n",
              "      quickchartButtonEl.classList.remove('colab-df-spinner');\n",
              "      quickchartButtonEl.classList.add('colab-df-quickchart-complete');\n",
              "    }\n",
              "    (() => {\n",
              "      let quickchartButtonEl =\n",
              "        document.querySelector('#df-9ad0c3da-2a3a-48fd-8f29-9e8b7fda1e9a button');\n",
              "      quickchartButtonEl.style.display =\n",
              "        google.colab.kernel.accessAllowed ? 'block' : 'none';\n",
              "    })();\n",
              "  </script>\n",
              "</div>\n",
              "    </div>\n",
              "  </div>\n"
            ]
          },
          "metadata": {},
          "execution_count": 109
        }
      ]
    },
    {
      "cell_type": "code",
      "source": [
        "df_lula_1 = df_lula.loc[df_lula['QT_VOTOS'].astype(str).str.startswith('1', na=False)]\n",
        "df_lula_2 = df_lula.loc[df_lula['QT_VOTOS'].astype(str).str.startswith('2', na=False)]\n",
        "df_lula_3 = df_lula.loc[df_lula['QT_VOTOS'].astype(str).str.startswith('3', na=False)]\n",
        "df_lula_4 = df_lula.loc[df_lula['QT_VOTOS'].astype(str).str.startswith('4', na=False)]\n",
        "df_lula_5 = df_lula.loc[df_lula['QT_VOTOS'].astype(str).str.startswith('5', na=False)]\n",
        "df_lula_6 = df_lula.loc[df_lula['QT_VOTOS'].astype(str).str.startswith('6', na=False)]\n",
        "df_lula_7 = df_lula.loc[df_lula['QT_VOTOS'].astype(str).str.startswith('7', na=False)]\n",
        "df_lula_8 = df_lula.loc[df_lula['QT_VOTOS'].astype(str).str.startswith('8', na=False)]\n",
        "df_lula_9 = df_lula.loc[df_lula['QT_VOTOS'].astype(str).str.startswith('9', na=False)]\n",
        "\n",
        "df_bolsonaro_1 = df_bolsonaro.loc[df_bolsonaro['QT_VOTOS'].astype(str).str.startswith('1', na=False)]\n",
        "df_bolsonaro_2 = df_bolsonaro.loc[df_bolsonaro['QT_VOTOS'].astype(str).str.startswith('2', na=False)]\n",
        "df_bolsonaro_3 = df_bolsonaro.loc[df_bolsonaro['QT_VOTOS'].astype(str).str.startswith('3', na=False)]\n",
        "df_bolsonaro_4 = df_bolsonaro.loc[df_bolsonaro['QT_VOTOS'].astype(str).str.startswith('4', na=False)]\n",
        "df_bolsonaro_5 = df_bolsonaro.loc[df_bolsonaro['QT_VOTOS'].astype(str).str.startswith('5', na=False)]\n",
        "df_bolsonaro_6 = df_bolsonaro.loc[df_bolsonaro['QT_VOTOS'].astype(str).str.startswith('6', na=False)]\n",
        "df_bolsonaro_7 = df_bolsonaro.loc[df_bolsonaro['QT_VOTOS'].astype(str).str.startswith('7', na=False)]\n",
        "df_bolsonaro_8 = df_bolsonaro.loc[df_bolsonaro['QT_VOTOS'].astype(str).str.startswith('8', na=False)]\n",
        "df_bolsonaro_9 = df_bolsonaro.loc[df_bolsonaro['QT_VOTOS'].astype(str).str.startswith('9', na=False)]\n",
        "\n",
        "# print(df_lula_1.size)\n",
        "# print(df_lula_2.size)\n",
        "# print(df_lula_3.size)\n",
        "# print(df_lula_4.size)\n",
        "# print(df_lula_5.size)\n",
        "# print(df_lula_6.size)\n",
        "# print(df_lula_7.size)\n",
        "# print(df_lula_8.size)\n",
        "# print(df_lula_9.size)\n"
      ],
      "metadata": {
        "id": "PN6QqwX3dPjf"
      },
      "execution_count": null,
      "outputs": []
    },
    {
      "cell_type": "code",
      "source": [
        "total_lula = df_lula_1.size + df_lula_2.size + df_lula_3.size + df_lula_4.size + df_lula_5.size + df_lula_6.size + df_lula_7.size + df_lula_8.size + df_lula_9.size\n",
        "total_lula"
      ],
      "metadata": {
        "colab": {
          "base_uri": "https://localhost:8080/"
        },
        "id": "VVGlvx69g317",
        "outputId": "298e5980-2529-4d31-c99d-44077f075e9d"
      },
      "execution_count": null,
      "outputs": [
        {
          "output_type": "execute_result",
          "data": {
            "text/plain": [
              "76032"
            ]
          },
          "metadata": {},
          "execution_count": 111
        }
      ]
    },
    {
      "cell_type": "code",
      "source": [
        "percent_lula_1 = df_lula_1.size * 100 / total_lula\n",
        "percent_lula_2 = df_lula_2.size * 100 / total_lula\n",
        "percent_lula_3 = df_lula_3.size * 100 / total_lula\n",
        "percent_lula_4 = df_lula_4.size * 100 / total_lula\n",
        "percent_lula_5 = df_lula_5.size * 100 / total_lula\n",
        "percent_lula_6 = df_lula_6.size * 100 / total_lula\n",
        "percent_lula_7 = df_lula_7.size * 100 / total_lula\n",
        "percent_lula_8 = df_lula_8.size * 100 / total_lula\n",
        "percent_lula_9 = df_lula_9.size * 100 / total_lula\n",
        "\n",
        "cem = percent_lula_1 + percent_lula_2 + percent_lula_3 + percent_lula_4 + percent_lula_5 + percent_lula_6 + percent_lula_7 + percent_lula_8 + percent_lula_9\n",
        "cem # (tem de dar 100% a soma)"
      ],
      "metadata": {
        "colab": {
          "base_uri": "https://localhost:8080/"
        },
        "id": "4u-Q1vURhWpX",
        "outputId": "73618f7a-2c9a-4c07-cdb6-ba04f6d29385"
      },
      "execution_count": null,
      "outputs": [
        {
          "output_type": "execute_result",
          "data": {
            "text/plain": [
              "100.0"
            ]
          },
          "metadata": {},
          "execution_count": 112
        }
      ]
    },
    {
      "cell_type": "code",
      "source": [
        "total_bolsonaro = df_bolsonaro_1.size + df_bolsonaro_2.size + df_bolsonaro_3.size + df_bolsonaro_4.size + df_bolsonaro_5.size + df_bolsonaro_6.size + df_bolsonaro_7.size + df_bolsonaro_8.size + df_bolsonaro_9.size\n",
        "total_bolsonaro"
      ],
      "metadata": {
        "colab": {
          "base_uri": "https://localhost:8080/"
        },
        "id": "MfYrP1fgyZEC",
        "outputId": "bbc91b7d-cdc3-4493-8317-459f86ffa7ae"
      },
      "execution_count": null,
      "outputs": [
        {
          "output_type": "execute_result",
          "data": {
            "text/plain": [
              "76021"
            ]
          },
          "metadata": {},
          "execution_count": 113
        }
      ]
    },
    {
      "cell_type": "code",
      "source": [
        "percent_bolsonaro_1 = df_bolsonaro_1.size * 100 / total_bolsonaro\n",
        "percent_bolsonaro_2 = df_bolsonaro_2.size * 100 / total_bolsonaro\n",
        "percent_bolsonaro_3 = df_bolsonaro_3.size * 100 / total_bolsonaro\n",
        "percent_bolsonaro_4 = df_bolsonaro_4.size * 100 / total_bolsonaro\n",
        "percent_bolsonaro_5 = df_bolsonaro_5.size * 100 / total_bolsonaro\n",
        "percent_bolsonaro_6 = df_bolsonaro_6.size * 100 / total_bolsonaro\n",
        "percent_bolsonaro_7 = df_bolsonaro_7.size * 100 / total_bolsonaro\n",
        "percent_bolsonaro_8 = df_bolsonaro_8.size * 100 / total_bolsonaro\n",
        "percent_bolsonaro_9 = df_bolsonaro_9.size * 100 / total_bolsonaro\n",
        "\n",
        "cem = percent_bolsonaro_1 + percent_bolsonaro_2 + percent_bolsonaro_3 + percent_bolsonaro_4 + percent_bolsonaro_5 + percent_bolsonaro_6 + percent_bolsonaro_7 + percent_bolsonaro_8 + percent_bolsonaro_9\n",
        "cem # (tem de dar 100% a soma)"
      ],
      "metadata": {
        "colab": {
          "base_uri": "https://localhost:8080/"
        },
        "id": "1WaFUTwlySs-",
        "outputId": "2d4ae9df-2617-463d-e260-c6eef37ffafb"
      },
      "execution_count": null,
      "outputs": [
        {
          "output_type": "execute_result",
          "data": {
            "text/plain": [
              "99.99999999999999"
            ]
          },
          "metadata": {},
          "execution_count": 114
        }
      ]
    },
    {
      "cell_type": "markdown",
      "source": [
        "# `POR URNAS, LULA`"
      ],
      "metadata": {
        "id": "dn4nUDm0l5Gz"
      }
    },
    {
      "cell_type": "code",
      "source": [
        "# data = {'1':df_lula_1.size,\n",
        "#         '2':df_lula_2.size,\n",
        "#         '3':df_lula_3.size,\n",
        "#         '4':df_lula_4.size,\n",
        "#         '5':df_lula_5.size,\n",
        "#         '6':df_lula_6.size,\n",
        "#         '7':df_lula_7.size,\n",
        "#         '8':df_lula_8.size,\n",
        "#         '9':df_lula_9.size}\n",
        "\n",
        "labels = ['(1): %.2f' %percent_lula_1,\n",
        "        '(2) %.2f' %percent_lula_2,\n",
        "        '(3) %.2f' %percent_lula_3,\n",
        "        '(4) %.2f' %percent_lula_4,\n",
        "        '(5) %.2f' %percent_lula_5,\n",
        "        '(6) %.2f' %percent_lula_6,\n",
        "        '(7) %.2f' %percent_lula_7,\n",
        "        '(8) %.2f' %percent_lula_8,\n",
        "        '(9) %.2f' %percent_lula_9]\n",
        "\n",
        "valores = [df_lula_1.size,\n",
        "        df_lula_2.size,\n",
        "        df_lula_3.size,\n",
        "        df_lula_4.size,\n",
        "        df_lula_5.size,\n",
        "        df_lula_6.size,\n",
        "        df_lula_7.size,\n",
        "        df_lula_8.size,\n",
        "        df_lula_9.size]\n",
        "numbers = list(labels)\n",
        "amounts = list(valores)\n",
        "\n",
        "fig = plt.figure(figsize = (10, 5))\n",
        "\n",
        "# creating the bar plot\n",
        "plt.bar(numbers, amounts, color ='maroon',\n",
        "        width = 0.4)\n",
        "\n",
        "plt.xlabel(\"Números\")\n",
        "plt.ylabel(\"Quantidade\")\n",
        "plt.title(\"Benford Distirbution\")\n",
        "plt.show()"
      ],
      "metadata": {
        "colab": {
          "base_uri": "https://localhost:8080/",
          "height": 487
        },
        "id": "FvalpathgJkF",
        "outputId": "aba675a2-5722-4e67-a746-7f69f44466e9"
      },
      "execution_count": null,
      "outputs": [
        {
          "output_type": "display_data",
          "data": {
            "text/plain": [
              "<Figure size 1000x500 with 1 Axes>"
            ],
            "image/png": "[encoded data removed]"
          },
          "metadata": {}
        }
      ]
    },
    {
      "cell_type": "markdown",
      "source": [
        "# POR URNA, BOLSONARO"
      ],
      "metadata": {
        "id": "bUBphQC5pikn"
      }
    },
    {
      "cell_type": "code",
      "source": [
        "# data = {'1':df_bolsonaro_1.size,\n",
        "  #         '2':df_bolsonaro_2.size,\n",
        "  #         '3':df_bolsonaro_3.size,\n",
        "  #         '4':df_bolsonaro_4.size,\n",
        "  #         '5':df_bolsonaro_5.size,\n",
        "  #         '6':df_bolsonaro_6.size,\n",
        "  #         '7':df_bolsonaro_7.size,\n",
        "  #         '8':df_bolsonaro_8.size,\n",
        "  #         '9':df_bolsonaro_9.size}\n",
        "\n",
        "labels = ['(1): %.2f' %percent_bolsonaro_1,\n",
        "          '(2) %.2f' %percent_bolsonaro_2,\n",
        "          '(3) %.2f' %percent_bolsonaro_3,\n",
        "          '(4) %.2f' %percent_bolsonaro_4,\n",
        "          '(5) %.2f' %percent_bolsonaro_5,\n",
        "          '(6) %.2f' %percent_bolsonaro_6,\n",
        "          '(7) %.2f' %percent_bolsonaro_7,\n",
        "          '(8) %.2f' %percent_bolsonaro_8,\n",
        "          '(9) %.2f' %percent_bolsonaro_9]\n",
        "\n",
        "valores = [df_bolsonaro_1.size,\n",
        "            df_bolsonaro_2.size,\n",
        "            df_bolsonaro_3.size,\n",
        "            df_bolsonaro_4.size,\n",
        "            df_bolsonaro_5.size,\n",
        "            df_bolsonaro_6.size,\n",
        "            df_bolsonaro_7.size,\n",
        "            df_bolsonaro_8.size,\n",
        "            df_bolsonaro_9.size]\n",
        "numbers = list(labels)\n",
        "amounts = list(valores)\n",
        "\n",
        "fig = plt.figure(figsize = (10, 5))\n",
        "\n",
        "# creating the bar plot\n",
        "plt.bar(numbers, amounts, color ='maroon',\n",
        "width = 0.4)\n",
        "\n",
        "plt.xlabel(\"Números\")\n",
        "plt.ylabel(\"Quantidade\")\n",
        "plt.title(\"Benford Distirbution\")\n",
        "plt.show()"
      ],
      "metadata": {
        "colab": {
          "base_uri": "https://localhost:8080/",
          "height": 487
        },
        "id": "QlnDfUEwlsi7",
        "outputId": "4a9b0f97-096f-4194-fce9-4907d4c5c31c"
      },
      "execution_count": null,
      "outputs": [
        {
          "output_type": "display_data",
          "data": {
            "text/plain": [
              "<Figure size 1000x500 with 1 Axes>"
            ],
            "image/png": "[encoded data removed]"
          },
          "metadata": {}
        }
      ]
    },
    {
      "cell_type": "markdown",
      "source": [
        "# APTOS POR URNA"
      ],
      "metadata": {
        "id": "4o8bqPfoBsfk"
      }
    },
    {
      "cell_type": "code",
      "source": [
        "                  #  'QT_APTOS',\n",
        "                  #  'QT_COMPARECIMENTO',\n",
        "# df2['QT_APTOS']\n",
        "# df2['QT_COMPARECIMENTO']\n",
        "\n",
        "df_aptos = df2['QT_APTOS']\n",
        "df_comparecimento = df2['QT_COMPARECIMENTO']\n",
        "df_aptos_1 = df2.loc[df2['QT_APTOS'].astype(str).str.startswith('1', na=False)]\n",
        "df_aptos_2 = df2.loc[df2['QT_APTOS'].astype(str).str.startswith('2', na=False)]\n",
        "df_aptos_3 = df2.loc[df2['QT_APTOS'].astype(str).str.startswith('3', na=False)]\n",
        "df_aptos_4 = df2.loc[df2['QT_APTOS'].astype(str).str.startswith('4', na=False)]\n",
        "df_aptos_5 = df2.loc[df2['QT_APTOS'].astype(str).str.startswith('5', na=False)]\n",
        "df_aptos_6 = df2.loc[df2['QT_APTOS'].astype(str).str.startswith('6', na=False)]\n",
        "df_aptos_7 = df2.loc[df2['QT_APTOS'].astype(str).str.startswith('7', na=False)]\n",
        "df_aptos_8 = df2.loc[df2['QT_APTOS'].astype(str).str.startswith('8', na=False)]\n",
        "df_aptos_9 = df2.loc[df2['QT_APTOS'].astype(str).str.startswith('9', na=False)]"
      ],
      "metadata": {
        "id": "mUz6A8DE94me"
      },
      "execution_count": null,
      "outputs": []
    },
    {
      "cell_type": "code",
      "source": [
        "df_aptos.min()"
      ],
      "metadata": {
        "colab": {
          "base_uri": "https://localhost:8080/"
        },
        "id": "HveNd56aRJID",
        "outputId": "a5cfffbe-5b9b-4297-bc7b-e919d6ca4409"
      },
      "execution_count": null,
      "outputs": [
        {
          "output_type": "execute_result",
          "data": {
            "text/plain": [
              "52"
            ]
          },
          "metadata": {},
          "execution_count": 132
        }
      ]
    },
    {
      "cell_type": "code",
      "source": [
        "total_aptos = df_aptos_1.size + df_aptos_2.size +df_aptos_3.size + df_aptos_4.size + df_aptos_5.size + df_aptos_6.size + df_aptos_7.size + df_aptos_8.size + df_aptos_9.size\n",
        "total_aptos"
      ],
      "metadata": {
        "colab": {
          "base_uri": "https://localhost:8080/"
        },
        "id": "FrqukD2y_hu2",
        "outputId": "8a670e77-8c6c-4411-ec4a-4d8753949e38"
      },
      "execution_count": null,
      "outputs": [
        {
          "output_type": "execute_result",
          "data": {
            "text/plain": [
              "152053"
            ]
          },
          "metadata": {},
          "execution_count": 121
        }
      ]
    },
    {
      "cell_type": "code",
      "source": [
        "percent_aptos_1 = df_aptos_1.size * 100 / total_aptos\n",
        "percent_aptos_2 = df_aptos_2.size * 100 / total_aptos\n",
        "percent_aptos_3 = df_aptos_3.size * 100 / total_aptos\n",
        "percent_aptos_4 = df_aptos_4.size * 100 / total_aptos\n",
        "percent_aptos_5 = df_aptos_5.size * 100 / total_aptos\n",
        "percent_aptos_6 = df_aptos_6.size * 100 / total_aptos\n",
        "percent_aptos_7 = df_aptos_7.size * 100 / total_aptos\n",
        "percent_aptos_8 = df_aptos_8.size * 100 / total_aptos\n",
        "percent_aptos_9 = df_aptos_9.size * 100 / total_aptos\n",
        "\n",
        "cem = percent_aptos_1 + percent_aptos_2 + percent_aptos_3 + percent_aptos_4 + percent_aptos_5 + percent_aptos_6 + percent_aptos_7 + percent_aptos_8 + percent_aptos_9\n",
        "cem # (tem de dar 100% a soma)"
      ],
      "metadata": {
        "colab": {
          "base_uri": "https://localhost:8080/"
        },
        "id": "uUFtNMUE_2XO",
        "outputId": "125bfc9e-48e1-490f-dec4-7172b1cf3524"
      },
      "execution_count": null,
      "outputs": [
        {
          "output_type": "execute_result",
          "data": {
            "text/plain": [
              "99.99999999999999"
            ]
          },
          "metadata": {},
          "execution_count": 122
        }
      ]
    },
    {
      "cell_type": "code",
      "source": [
        "labels = ['(1): %.2f' %percent_aptos_1,\n",
        "        '(2) %.2f' %percent_aptos_2,\n",
        "        '(3) %.2f' %percent_aptos_3,\n",
        "        '(4) %.2f' %percent_aptos_4,\n",
        "        '(5) %.2f' %percent_aptos_5,\n",
        "        '(6) %.2f' %percent_aptos_6,\n",
        "        '(7) %.2f' %percent_aptos_7,\n",
        "        '(8) %.2f' %percent_aptos_8,\n",
        "        '(9) %.2f' %percent_aptos_9]\n",
        "\n",
        "valores = [df_aptos_1.size,\n",
        "        df_aptos_2.size,\n",
        "        df_aptos_3.size,\n",
        "        df_aptos_4.size,\n",
        "        df_aptos_5.size,\n",
        "        df_aptos_6.size,\n",
        "        df_aptos_7.size,\n",
        "        df_aptos_8.size,\n",
        "        df_aptos_9.size]\n",
        "numbers = list(labels)\n",
        "amounts = list(valores)\n",
        "\n",
        "fig = plt.figure(figsize = (10, 5))\n",
        "\n",
        "# creating the bar plot\n",
        "plt.bar(numbers, amounts, color ='maroon',\n",
        "        width = 0.4)\n",
        "\n",
        "plt.xlabel(\"Números\")\n",
        "plt.ylabel(\"Quantidade\")\n",
        "plt.title(\"Aptos por urna\")\n",
        "plt.show()"
      ],
      "metadata": {
        "colab": {
          "base_uri": "https://localhost:8080/",
          "height": 487
        },
        "id": "bpUGUAETBVCK",
        "outputId": "b2862362-f6b9-4c93-80d4-a3de714ade31"
      },
      "execution_count": null,
      "outputs": [
        {
          "output_type": "display_data",
          "data": {
            "text/plain": [
              "<Figure size 1000x500 with 1 Axes>"
            ],
            "image/png": "[encoded data removed]"
          },
          "metadata": {}
        }
      ]
    },
    {
      "cell_type": "markdown",
      "source": [
        "# COMPARECIMENTO POR URNA"
      ],
      "metadata": {
        "id": "lh1YjpQkBwzg"
      }
    },
    {
      "cell_type": "code",
      "source": [
        "df_comparecimento_1 = df2.loc[df2['QT_COMPARECIMENTO'].astype(str).str.startswith('1', na=False)]\n",
        "df_comparecimento_2 = df2.loc[df2['QT_COMPARECIMENTO'].astype(str).str.startswith('2', na=False)]\n",
        "df_comparecimento_3 = df2.loc[df2['QT_COMPARECIMENTO'].astype(str).str.startswith('3', na=False)]\n",
        "df_comparecimento_4 = df2.loc[df2['QT_COMPARECIMENTO'].astype(str).str.startswith('4', na=False)]\n",
        "df_comparecimento_5 = df2.loc[df2['QT_COMPARECIMENTO'].astype(str).str.startswith('5', na=False)]\n",
        "df_comparecimento_6 = df2.loc[df2['QT_COMPARECIMENTO'].astype(str).str.startswith('6', na=False)]\n",
        "df_comparecimento_7 = df2.loc[df2['QT_COMPARECIMENTO'].astype(str).str.startswith('7', na=False)]\n",
        "df_comparecimento_8 = df2.loc[df2['QT_COMPARECIMENTO'].astype(str).str.startswith('8', na=False)]\n",
        "df_comparecimento_9 = df2.loc[df2['QT_COMPARECIMENTO'].astype(str).str.startswith('9', na=False)]"
      ],
      "metadata": {
        "id": "jkIaegZABpY6"
      },
      "execution_count": null,
      "outputs": []
    },
    {
      "cell_type": "code",
      "source": [],
      "metadata": {
        "id": "PebazvMjRFDf"
      },
      "execution_count": null,
      "outputs": []
    },
    {
      "cell_type": "code",
      "source": [
        "total_comparecimento = df_comparecimento_1.size + df_comparecimento_2.size +df_comparecimento_3.size + df_comparecimento_4.size + df_comparecimento_5.size + df_comparecimento_6.size + df_comparecimento_7.size + df_comparecimento_8.size + df_comparecimento_9.size\n",
        "total_comparecimento"
      ],
      "metadata": {
        "colab": {
          "base_uri": "https://localhost:8080/"
        },
        "id": "8R0X33ujB9tE",
        "outputId": "d75d482f-6262-4267-9114-96c1e0d4c764"
      },
      "execution_count": null,
      "outputs": [
        {
          "output_type": "execute_result",
          "data": {
            "text/plain": [
              "152053"
            ]
          },
          "metadata": {},
          "execution_count": 126
        }
      ]
    },
    {
      "cell_type": "code",
      "source": [
        "percent_comparecimento_1 = df_comparecimento_1.size * 100 / total_comparecimento\n",
        "percent_comparecimento_2 = df_comparecimento_2.size * 100 / total_comparecimento\n",
        "percent_comparecimento_3 = df_comparecimento_3.size * 100 / total_comparecimento\n",
        "percent_comparecimento_4 = df_comparecimento_4.size * 100 / total_comparecimento\n",
        "percent_comparecimento_5 = df_comparecimento_5.size * 100 / total_comparecimento\n",
        "percent_comparecimento_6 = df_comparecimento_6.size * 100 / total_comparecimento\n",
        "percent_comparecimento_7 = df_comparecimento_7.size * 100 / total_comparecimento\n",
        "percent_comparecimento_8 = df_comparecimento_8.size * 100 / total_comparecimento\n",
        "percent_comparecimento_9 = df_comparecimento_9.size * 100 / total_comparecimento\n",
        "\n",
        "cem = percent_comparecimento_1 + percent_comparecimento_2 + percent_comparecimento_3 + percent_comparecimento_4 + percent_comparecimento_5 + percent_comparecimento_6 + percent_comparecimento_7 + percent_comparecimento_8 + percent_comparecimento_9"
      ],
      "metadata": {
        "id": "qcu6ADVfCGG2"
      },
      "execution_count": null,
      "outputs": []
    },
    {
      "cell_type": "code",
      "source": [
        "labels = ['(1): %.2f' %percent_comparecimento_1,\n",
        "        '(2) %.2f' %percent_comparecimento_2,\n",
        "        '(3) %.2f' %percent_comparecimento_3,\n",
        "        '(4) %.2f' %percent_comparecimento_4,\n",
        "        '(5) %.2f' %percent_comparecimento_5,\n",
        "        '(6) %.2f' %percent_comparecimento_6,\n",
        "        '(7) %.2f' %percent_comparecimento_7,\n",
        "        '(8) %.2f' %percent_comparecimento_8,\n",
        "        '(9) %.2f' %percent_comparecimento_9]\n",
        "\n",
        "valores = [df_comparecimento_1.size,\n",
        "          df_comparecimento_2.size,\n",
        "          df_comparecimento_3.size,\n",
        "          df_comparecimento_4.size,\n",
        "          df_comparecimento_5.size,\n",
        "          df_comparecimento_6.size,\n",
        "          df_comparecimento_7.size,\n",
        "          df_comparecimento_8.size,\n",
        "          df_comparecimento_9.size]\n",
        "numbers = list(labels)\n",
        "amounts = list(valores)\n",
        "\n",
        "fig = plt.figure(figsize = (10, 5))\n",
        "\n",
        "    # creating the bar plot\n",
        "plt.bar(numbers, amounts, color ='maroon', width = 0.4)\n",
        "\n",
        "plt.xlabel(\"Números\")\n",
        "plt.ylabel(\"Quantidade\")\n",
        "plt.title(\"Comparecimento por urna\")\n",
        "plt.show()"
      ],
      "metadata": {
        "colab": {
          "base_uri": "https://localhost:8080/",
          "height": 487
        },
        "id": "wCTZmChwCNKS",
        "outputId": "19e733c1-98d1-4c33-c93a-0134ebf3b175"
      },
      "execution_count": null,
      "outputs": [
        {
          "output_type": "display_data",
          "data": {
            "text/plain": [
              "<Figure size 1000x500 with 1 Axes>"
            ],
            "image/png": "[encoded data removed]"
          },
          "metadata": {}
        }
      ]
    }
  ]
}